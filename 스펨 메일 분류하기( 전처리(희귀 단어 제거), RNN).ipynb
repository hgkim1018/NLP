{
 "cells": [
  {
   "cell_type": "code",
   "execution_count": 1,
   "id": "b88954c2",
   "metadata": {},
   "outputs": [],
   "source": [
    "import numpy as np\n",
    "import pandas as pd\n",
    "import matplotlib.pyplot as plt\n",
    "import urllib.request\n",
    "from sklearn.model_selection import train_test_split\n",
    "from tensorflow.keras.preprocessing.text import Tokenizer\n",
    "from tensorflow.keras.preprocessing.sequence import pad_sequences"
   ]
  },
  {
   "cell_type": "code",
   "execution_count": 67,
   "id": "5a6339e3",
   "metadata": {},
   "outputs": [
    {
     "name": "stdout",
     "output_type": "stream",
     "text": [
      "총 샘플의 수 : 5572\n"
     ]
    }
   ],
   "source": [
    "# 파일 불러오기\n",
    "urllib.request.urlretrieve(\"https://raw.githubusercontent.com/ukairia777/tensorflow-nlp-tutorial/main/10.%20RNN%20Text%20Classification/dataset/spam.csv\", filename=\"spam.csv\")\n",
    "data = pd.read_csv('spam.csv', encoding='latin1')\n",
    "print('총 샘플의 수 :',len(data))"
   ]
  },
  {
   "cell_type": "code",
   "execution_count": 68,
   "id": "e882afaa",
   "metadata": {},
   "outputs": [
    {
     "data": {
      "text/html": [
       "<div>\n",
       "<style scoped>\n",
       "    .dataframe tbody tr th:only-of-type {\n",
       "        vertical-align: middle;\n",
       "    }\n",
       "\n",
       "    .dataframe tbody tr th {\n",
       "        vertical-align: top;\n",
       "    }\n",
       "\n",
       "    .dataframe thead th {\n",
       "        text-align: right;\n",
       "    }\n",
       "</style>\n",
       "<table border=\"1\" class=\"dataframe\">\n",
       "  <thead>\n",
       "    <tr style=\"text-align: right;\">\n",
       "      <th></th>\n",
       "      <th>v1</th>\n",
       "      <th>v2</th>\n",
       "      <th>Unnamed: 2</th>\n",
       "      <th>Unnamed: 3</th>\n",
       "      <th>Unnamed: 4</th>\n",
       "    </tr>\n",
       "  </thead>\n",
       "  <tbody>\n",
       "    <tr>\n",
       "      <th>0</th>\n",
       "      <td>ham</td>\n",
       "      <td>Go until jurong point, crazy.. Available only ...</td>\n",
       "      <td>NaN</td>\n",
       "      <td>NaN</td>\n",
       "      <td>NaN</td>\n",
       "    </tr>\n",
       "    <tr>\n",
       "      <th>1</th>\n",
       "      <td>ham</td>\n",
       "      <td>Ok lar... Joking wif u oni...</td>\n",
       "      <td>NaN</td>\n",
       "      <td>NaN</td>\n",
       "      <td>NaN</td>\n",
       "    </tr>\n",
       "    <tr>\n",
       "      <th>2</th>\n",
       "      <td>spam</td>\n",
       "      <td>Free entry in 2 a wkly comp to win FA Cup fina...</td>\n",
       "      <td>NaN</td>\n",
       "      <td>NaN</td>\n",
       "      <td>NaN</td>\n",
       "    </tr>\n",
       "    <tr>\n",
       "      <th>3</th>\n",
       "      <td>ham</td>\n",
       "      <td>U dun say so early hor... U c already then say...</td>\n",
       "      <td>NaN</td>\n",
       "      <td>NaN</td>\n",
       "      <td>NaN</td>\n",
       "    </tr>\n",
       "    <tr>\n",
       "      <th>4</th>\n",
       "      <td>ham</td>\n",
       "      <td>Nah I don't think he goes to usf, he lives aro...</td>\n",
       "      <td>NaN</td>\n",
       "      <td>NaN</td>\n",
       "      <td>NaN</td>\n",
       "    </tr>\n",
       "  </tbody>\n",
       "</table>\n",
       "</div>"
      ],
      "text/plain": [
       "     v1                                                 v2 Unnamed: 2  \\\n",
       "0   ham  Go until jurong point, crazy.. Available only ...        NaN   \n",
       "1   ham                      Ok lar... Joking wif u oni...        NaN   \n",
       "2  spam  Free entry in 2 a wkly comp to win FA Cup fina...        NaN   \n",
       "3   ham  U dun say so early hor... U c already then say...        NaN   \n",
       "4   ham  Nah I don't think he goes to usf, he lives aro...        NaN   \n",
       "\n",
       "  Unnamed: 3 Unnamed: 4  \n",
       "0        NaN        NaN  \n",
       "1        NaN        NaN  \n",
       "2        NaN        NaN  \n",
       "3        NaN        NaN  \n",
       "4        NaN        NaN  "
      ]
     },
     "execution_count": 68,
     "metadata": {},
     "output_type": "execute_result"
    }
   ],
   "source": [
    "# 데이터 확인하기\n",
    "data.head()"
   ]
  },
  {
   "cell_type": "code",
   "execution_count": 70,
   "id": "ea7f1015",
   "metadata": {},
   "outputs": [
    {
     "data": {
      "text/html": [
       "<div>\n",
       "<style scoped>\n",
       "    .dataframe tbody tr th:only-of-type {\n",
       "        vertical-align: middle;\n",
       "    }\n",
       "\n",
       "    .dataframe tbody tr th {\n",
       "        vertical-align: top;\n",
       "    }\n",
       "\n",
       "    .dataframe thead th {\n",
       "        text-align: right;\n",
       "    }\n",
       "</style>\n",
       "<table border=\"1\" class=\"dataframe\">\n",
       "  <thead>\n",
       "    <tr style=\"text-align: right;\">\n",
       "      <th></th>\n",
       "      <th>v1</th>\n",
       "      <th>v2</th>\n",
       "    </tr>\n",
       "  </thead>\n",
       "  <tbody>\n",
       "    <tr>\n",
       "      <th>0</th>\n",
       "      <td>0</td>\n",
       "      <td>Go until jurong point, crazy.. Available only ...</td>\n",
       "    </tr>\n",
       "    <tr>\n",
       "      <th>1</th>\n",
       "      <td>0</td>\n",
       "      <td>Ok lar... Joking wif u oni...</td>\n",
       "    </tr>\n",
       "    <tr>\n",
       "      <th>2</th>\n",
       "      <td>1</td>\n",
       "      <td>Free entry in 2 a wkly comp to win FA Cup fina...</td>\n",
       "    </tr>\n",
       "    <tr>\n",
       "      <th>3</th>\n",
       "      <td>0</td>\n",
       "      <td>U dun say so early hor... U c already then say...</td>\n",
       "    </tr>\n",
       "    <tr>\n",
       "      <th>4</th>\n",
       "      <td>0</td>\n",
       "      <td>Nah I don't think he goes to usf, he lives aro...</td>\n",
       "    </tr>\n",
       "  </tbody>\n",
       "</table>\n",
       "</div>"
      ],
      "text/plain": [
       "   v1                                                 v2\n",
       "0   0  Go until jurong point, crazy.. Available only ...\n",
       "1   0                      Ok lar... Joking wif u oni...\n",
       "2   1  Free entry in 2 a wkly comp to win FA Cup fina...\n",
       "3   0  U dun say so early hor... U c already then say...\n",
       "4   0  Nah I don't think he goes to usf, he lives aro..."
      ]
     },
     "execution_count": 70,
     "metadata": {},
     "output_type": "execute_result"
    }
   ],
   "source": [
    "# Column 선택하기\n",
    "data = data[['v1', 'v2']]\n",
    "# ham, spam을 정수로 대체하기\n",
    "data['v1'] = data['v1'].replace(['ham', 'spam'], [0,1])\n",
    "data.head()"
   ]
  },
  {
   "cell_type": "code",
   "execution_count": 71,
   "id": "58e7e9e7",
   "metadata": {},
   "outputs": [
    {
     "name": "stdout",
     "output_type": "stream",
     "text": [
      "<class 'pandas.core.frame.DataFrame'>\n",
      "RangeIndex: 5572 entries, 0 to 5571\n",
      "Data columns (total 2 columns):\n",
      " #   Column  Non-Null Count  Dtype \n",
      "---  ------  --------------  ----- \n",
      " 0   v1      5572 non-null   int64 \n",
      " 1   v2      5572 non-null   object\n",
      "dtypes: int64(1), object(1)\n",
      "memory usage: 87.2+ KB\n"
     ]
    }
   ],
   "source": [
    "data.info()"
   ]
  },
  {
   "cell_type": "code",
   "execution_count": 72,
   "id": "4556aeaa",
   "metadata": {},
   "outputs": [
    {
     "name": "stdout",
     "output_type": "stream",
     "text": [
      "결측값 여부 : False\n"
     ]
    }
   ],
   "source": [
    "print('결측값 여부 :', data.isnull().values.any())\n",
    "# isnull()을 하면 true or false로 출력\n",
    "# values는 frame 형태가 아닌 값을 출력\n",
    "# any() 어떠한 값이 있냐?"
   ]
  },
  {
   "cell_type": "code",
   "execution_count": 73,
   "id": "a54324ee",
   "metadata": {},
   "outputs": [
    {
     "name": "stdout",
     "output_type": "stream",
     "text": [
      "v2열의 유니크한 값 :  5169\n"
     ]
    }
   ],
   "source": [
    "print('v2열의 유니크한 값 : ', data['v2'].nunique())\n",
    "# number of unique 값 출력"
   ]
  },
  {
   "cell_type": "code",
   "execution_count": 74,
   "id": "55490355",
   "metadata": {},
   "outputs": [],
   "source": [
    "# 중복된 값 제거하기\n",
    "data.drop_duplicates(subset =['v2'], inplace = True)"
   ]
  },
  {
   "cell_type": "code",
   "execution_count": 75,
   "id": "e97b0bd9",
   "metadata": {},
   "outputs": [
    {
     "name": "stdout",
     "output_type": "stream",
     "text": [
      "정상 메일과 스팸 메일의 개수\n",
      "   v1  count\n",
      "0   0   4516\n",
      "1   1    653\n",
      "-----------------------------------\n",
      "정상 메일의 비율 = 87.367%\n",
      "스팸 메일의 비율 = 12.633%\n"
     ]
    }
   ],
   "source": [
    "print('정상 메일과 스팸 메일의 개수')\n",
    "print(data.groupby('v1').size().reset_index(name='count'))\n",
    "print(35*'-')\n",
    "print(f'정상 메일의 비율 = {round(data[\"v1\"].value_counts()[0]/len(data) * 100,3)}%')\n",
    "print(f'스팸 메일의 비율 = {round(data[\"v1\"].value_counts()[1]/len(data) * 100,3)}%')"
   ]
  },
  {
   "cell_type": "code",
   "execution_count": 14,
   "id": "7ec1290d",
   "metadata": {},
   "outputs": [
    {
     "name": "stdout",
     "output_type": "stream",
     "text": [
      "메일 본문의 개수: 5169\n",
      "레이블의 개수: 5169\n"
     ]
    }
   ],
   "source": [
    "X_data = data['v2']\n",
    "y_data = data['v1']\n",
    "print('메일 본문의 개수: {}'.format(len(X_data)))\n",
    "print('레이블의 개수: {}'.format(len(y_data)))"
   ]
  },
  {
   "cell_type": "markdown",
   "id": "10cb8fa0",
   "metadata": {},
   "source": [
    "------"
   ]
  },
  {
   "cell_type": "code",
   "execution_count": 76,
   "id": "bf777b15",
   "metadata": {},
   "outputs": [],
   "source": [
    "from nltk.corpus import stopwords\n",
    "from nltk.tokenize import RegexpTokenizer # 정규식을 이용한 단어 분리\n",
    "\n",
    "# 유니코드보다 작은 값 제거하기\n",
    "def _removeNonAscii(s):\n",
    "    return \"\".join(i for i in s if ord(i)<128) \n",
    "    # ord() 유티코드 정수 반환\n",
    "    # 한 문자씩(a,b,c) 변환\n",
    "    \n",
    "# 소문자화\n",
    "def make_lower_case(text):\n",
    "    return text.lower()\n",
    "    # text 전체 적용\n",
    "\n",
    "# 불용어 제거\n",
    "def remove_stop_words(text):\n",
    "    text = text.split() # 하나의 데이터를 나누어주고\n",
    "    stops = set(stopwords.words('english'))\n",
    "    text = [w for w in text if not w in stops] # 불용어인 것을 제거한다.\n",
    "    text = ' '.join(text) # 다시 하나의 text로 만든다.\n",
    "    return text\n",
    "\n",
    "# 특수문자 제거하기\n",
    "def remove_punctuation(text):\n",
    "    tokenizer = RegexpTokenizer(r'[a-zA-Z]+')\n",
    "    text = tokenizer.tokenize(text)\n",
    "    text = \" \".join(text)\n",
    "    return text"
   ]
  },
  {
   "cell_type": "code",
   "execution_count": 77,
   "id": "534975bc",
   "metadata": {},
   "outputs": [
    {
     "data": {
      "text/html": [
       "<div>\n",
       "<style scoped>\n",
       "    .dataframe tbody tr th:only-of-type {\n",
       "        vertical-align: middle;\n",
       "    }\n",
       "\n",
       "    .dataframe tbody tr th {\n",
       "        vertical-align: top;\n",
       "    }\n",
       "\n",
       "    .dataframe thead th {\n",
       "        text-align: right;\n",
       "    }\n",
       "</style>\n",
       "<table border=\"1\" class=\"dataframe\">\n",
       "  <thead>\n",
       "    <tr style=\"text-align: right;\">\n",
       "      <th></th>\n",
       "      <th>v1</th>\n",
       "      <th>v2</th>\n",
       "      <th>cleaned</th>\n",
       "    </tr>\n",
       "  </thead>\n",
       "  <tbody>\n",
       "    <tr>\n",
       "      <th>0</th>\n",
       "      <td>0</td>\n",
       "      <td>Go until jurong point, crazy.. Available only ...</td>\n",
       "      <td>go jurong point crazy available bugis n great ...</td>\n",
       "    </tr>\n",
       "    <tr>\n",
       "      <th>1</th>\n",
       "      <td>0</td>\n",
       "      <td>Ok lar... Joking wif u oni...</td>\n",
       "      <td>ok lar joking wif u oni</td>\n",
       "    </tr>\n",
       "    <tr>\n",
       "      <th>2</th>\n",
       "      <td>1</td>\n",
       "      <td>Free entry in 2 a wkly comp to win FA Cup fina...</td>\n",
       "      <td>free entry wkly comp win fa cup final tkts st ...</td>\n",
       "    </tr>\n",
       "    <tr>\n",
       "      <th>3</th>\n",
       "      <td>0</td>\n",
       "      <td>U dun say so early hor... U c already then say...</td>\n",
       "      <td>u dun say early hor u c already say</td>\n",
       "    </tr>\n",
       "    <tr>\n",
       "      <th>4</th>\n",
       "      <td>0</td>\n",
       "      <td>Nah I don't think he goes to usf, he lives aro...</td>\n",
       "      <td>nah think goes usf lives around though</td>\n",
       "    </tr>\n",
       "  </tbody>\n",
       "</table>\n",
       "</div>"
      ],
      "text/plain": [
       "   v1                                                 v2  \\\n",
       "0   0  Go until jurong point, crazy.. Available only ...   \n",
       "1   0                      Ok lar... Joking wif u oni...   \n",
       "2   1  Free entry in 2 a wkly comp to win FA Cup fina...   \n",
       "3   0  U dun say so early hor... U c already then say...   \n",
       "4   0  Nah I don't think he goes to usf, he lives aro...   \n",
       "\n",
       "                                             cleaned  \n",
       "0  go jurong point crazy available bugis n great ...  \n",
       "1                            ok lar joking wif u oni  \n",
       "2  free entry wkly comp win fa cup final tkts st ...  \n",
       "3                u dun say early hor u c already say  \n",
       "4             nah think goes usf lives around though  "
      ]
     },
     "execution_count": 77,
     "metadata": {},
     "output_type": "execute_result"
    }
   ],
   "source": [
    "data['cleaned'] = data['v2'].apply(_removeNonAscii)\n",
    "data['cleaned'] = data.cleaned.apply(make_lower_case)\n",
    "data['cleaned'] = data.cleaned.apply(remove_stop_words)\n",
    "data['cleaned'] = data.cleaned.apply(remove_punctuation)\n",
    "data.head()"
   ]
  },
  {
   "cell_type": "code",
   "execution_count": 100,
   "id": "27036349",
   "metadata": {},
   "outputs": [
    {
     "name": "stdout",
     "output_type": "stream",
     "text": [
      "총 단어의 수:  7690\n"
     ]
    }
   ],
   "source": [
    "# 데이터와 레이블 분류하기\n",
    "X_data = data['cleaned']\n",
    "y_data = data['v1']\n",
    "\n",
    "# fit_on_texts는 입력한 텍스트로부터 단어 빈도수가 높은 순으로 낮은 정수 인덱스를 부여하는 과정입니다.\n",
    "# 정확히 앞서 설명한 정수 인코딩 작업이 이루어진다고 보면됩니다. \n",
    "tokenizer = Tokenizer()\n",
    "tokenizer.fit_on_texts(X_data)\n",
    "\n",
    "#Sequence화 하기\n",
    "X_data_encoded = tokenizer.texts_to_sequences(X_data)\n",
    "\n",
    "# {word, index}\n",
    "word_to_index = tokenizer.word_index\n",
    "print('총 단어의 수: ', len(word_to_index))\n",
    "\n",
    "# trian, test 데이터 분류하기\n",
    "X_train, X_test, y_train, y_test = train_test_split(X_data_encoded, y_data, test_size=0.2, random_state=0, stratify=y_data)"
   ]
  },
  {
   "cell_type": "code",
   "execution_count": 82,
   "id": "adb2c4c7",
   "metadata": {},
   "outputs": [
    {
     "name": "stdout",
     "output_type": "stream",
     "text": [
      "기존 데이터에서 메일의 최대 길이 : 97\n",
      "기존 데이터에서 메일의 평균 길이 : 7.810408\n"
     ]
    }
   ],
   "source": [
    "print('기존 데이터에서 메일의 최대 길이 : %d' % max(len(sample) for sample in X_data_encoded))\n",
    "print('기존 데이터에서 메일의 평균 길이 : %f' % (sum(map(len, X_train_encoded))/len(X_data_encoded)))"
   ]
  },
  {
   "cell_type": "markdown",
   "id": "85eac02e",
   "metadata": {},
   "source": [
    "# 희귀 단어를 제거하는 과정"
   ]
  },
  {
   "cell_type": "code",
   "execution_count": 83,
   "id": "e0016075",
   "metadata": {},
   "outputs": [
    {
     "name": "stdout",
     "output_type": "stream",
     "text": [
      "등장 빈도가 1번 이하인 희귀 단어의 수: 4098\n",
      "단어 집합(vocabulary)에서 희귀 단어의 비율: 53.289986996098826\n",
      "전체 등장 빈도에서 희귀 단어 등장 빈도 비율: 8.178498014249506\n"
     ]
    }
   ],
   "source": [
    "threshold = 2 # 단어 빈도 수\n",
    "total_cnt = len(word_to_index) # 총 단어 수\n",
    "rare_cnt = 0 # 등장 빈도수가 적은 rare 단어의 수\n",
    "total_freq = 0 # 전체 단어의 카운트 수\n",
    "rare_freq = 0 # 등장 빈도수가 적은 rare 단어의 카운트 수\n",
    "\n",
    "for key, value in tokenizer.word_counts.items():\n",
    "    total_freq = total_freq + value\n",
    "    \n",
    "    if value < threshold:\n",
    "        rare_cnt += 1\n",
    "        rare_freq += value\n",
    "        \n",
    "print('등장 빈도가 %s번 이하인 희귀 단어의 수: %s'%(threshold - 1, rare_cnt))\n",
    "print(\"단어 집합(vocabulary)에서 희귀 단어의 비율:\", (rare_cnt / total_cnt)*100)\n",
    "print(\"전체 등장 빈도에서 희귀 단어 등장 빈도 비율:\", (rare_freq / total_freq)*100)"
   ]
  },
  {
   "cell_type": "code",
   "execution_count": 84,
   "id": "e1fe736b",
   "metadata": {},
   "outputs": [
    {
     "name": "stdout",
     "output_type": "stream",
     "text": [
      "희귀 단어의 개수: 4098\n"
     ]
    }
   ],
   "source": [
    "#희귀 단어 제거\n",
    "rare_word_idx = []\n",
    "\n",
    "for key, value in tokenizer.word_counts.items():\n",
    "    if value < threshold:\n",
    "        # 인덱스 가져오기\n",
    "        rare_word_idx.append(word_to_index[key])\n",
    "        \n",
    "# 희귀 단어 인덱스 만들기\n",
    "print('희귀 단어의 개수:', len(rare_word_idx))"
   ]
  },
  {
   "cell_type": "code",
   "execution_count": 91,
   "id": "51d79193",
   "metadata": {},
   "outputs": [
    {
     "name": "stdout",
     "output_type": "stream",
     "text": [
      "단어 집합의 크기: 3593\n"
     ]
    }
   ],
   "source": [
    "# 총 단어의 수에서 빈도가 적은 희귀 단어를 제거한다.\n",
    "# 패딩을 위한 단어도 포함한다.\n",
    "vocab_size = len(word_to_index) - len(rare_word_idx) + 1\n",
    "print('단어 집합의 크기: {}'.format((vocab_size)))"
   ]
  },
  {
   "cell_type": "code",
   "execution_count": 96,
   "id": "d0f12c10",
   "metadata": {},
   "outputs": [
    {
     "name": "stdout",
     "output_type": "stream",
     "text": [
      "총 메일의 수:  5169\n"
     ]
    }
   ],
   "source": [
    "# 희귀 단어를 제거한 Sequence 데이터를 만든다.\n",
    "new_X_encoded = []\n",
    "\n",
    "for sequence in X_data_encoded:\n",
    "    new_sequence = [i for i in sequence if i not in rare_word_idx]\n",
    "    new_X_encoded.append(new_sequence)\n",
    "\n",
    "# 총 메일의 수\n",
    "print('총 메일의 수: ', len(new_X_train_encoded))"
   ]
  },
  {
   "cell_type": "code",
   "execution_count": 97,
   "id": "5c6a0c0a",
   "metadata": {},
   "outputs": [
    {
     "name": "stdout",
     "output_type": "stream",
     "text": [
      "희귀 단어를 제거한 메일의 최대 길이 : 91\n",
      "희귀 단어를 제거한 메일메일의 평균 길이 : 8.900948\n"
     ]
    }
   ],
   "source": [
    "print('희귀 단어를 제거한 메일의 최대 길이 : %d' % max(len(mail) for mail in new_X_encoded))\n",
    "print('희귀 단어를 제거한 메일메일의 평균 길이 : %f' % (sum(map(len, new_X_encoded))/len(new_X_encoded)))"
   ]
  },
  {
   "cell_type": "code",
   "execution_count": 105,
   "id": "d6ee1854",
   "metadata": {},
   "outputs": [
    {
     "name": "stdout",
     "output_type": "stream",
     "text": [
      "훈련 데이터의 shape:  (5169, 91)\n"
     ]
    }
   ],
   "source": [
    "# padding \n",
    "max_len = 91\n",
    "\n",
    "X_padded = pad_sequences(new_X_encoded, maxlen = max_len)\n",
    "print(\"훈련 데이터의 shape: \", X_train_padded.shape)"
   ]
  },
  {
   "cell_type": "code",
   "execution_count": 106,
   "id": "ed4999eb",
   "metadata": {},
   "outputs": [],
   "source": [
    "# trian, test 데이터 분류하기\n",
    "X_train, X_test, y_train, y_test = train_test_split(X_padded, y_data, test_size=0.2, random_state=0, stratify=y_data)"
   ]
  },
  {
   "cell_type": "code",
   "execution_count": 109,
   "id": "ebebdcf7",
   "metadata": {},
   "outputs": [
    {
     "name": "stdout",
     "output_type": "stream",
     "text": [
      "훈련 샘플 문장의 크기 : (4135, 91)\n",
      "훈련 샘플 레이블의 크기 : (4135,)\n",
      "테스트 샘플 문장의 크기 : (1034, 91)\n",
      "테스트 샘플 레이블의 크기 : (1034,)\n"
     ]
    }
   ],
   "source": [
    "print('훈련 샘플 문장의 크기 : {}'.format(X_train.shape))\n",
    "print('훈련 샘플 레이블의 크기 : {}'.format(y_train.shape))\n",
    "print('테스트 샘플 문장의 크기 : {}'.format(X_test.shape))\n",
    "print('테스트 샘플 레이블의 크기 : {}'.format(y_test.shape))"
   ]
  },
  {
   "cell_type": "markdown",
   "id": "b88dad7f",
   "metadata": {},
   "source": [
    "--------"
   ]
  },
  {
   "cell_type": "code",
   "execution_count": 115,
   "id": "a8a61f7d",
   "metadata": {},
   "outputs": [
    {
     "name": "stdout",
     "output_type": "stream",
     "text": [
      "Epoch 1/10\n",
      "52/52 [==============================] - 2s 15ms/step - loss: 0.4362 - acc: 0.8597 - val_loss: 0.2912 - val_acc: 0.9178\n",
      "Epoch 2/10\n",
      "52/52 [==============================] - 1s 12ms/step - loss: 0.1806 - acc: 0.9619 - val_loss: 0.1273 - val_acc: 0.9734\n",
      "Epoch 3/10\n",
      "52/52 [==============================] - 1s 13ms/step - loss: 0.1094 - acc: 0.9761 - val_loss: 0.0992 - val_acc: 0.9782\n",
      "Epoch 4/10\n",
      "52/52 [==============================] - 1s 13ms/step - loss: 0.0576 - acc: 0.9900 - val_loss: 0.0800 - val_acc: 0.9782\n",
      "Epoch 5/10\n",
      "52/52 [==============================] - 1s 13ms/step - loss: 0.0365 - acc: 0.9927 - val_loss: 0.0683 - val_acc: 0.9807\n",
      "Epoch 6/10\n",
      "52/52 [==============================] - 1s 13ms/step - loss: 0.0232 - acc: 0.9964 - val_loss: 0.0623 - val_acc: 0.9843\n",
      "Epoch 7/10\n",
      "52/52 [==============================] - 1s 13ms/step - loss: 0.0169 - acc: 0.9973 - val_loss: 0.0605 - val_acc: 0.9843\n",
      "Epoch 8/10\n",
      "52/52 [==============================] - 1s 13ms/step - loss: 0.0124 - acc: 0.9976 - val_loss: 0.0627 - val_acc: 0.9855\n",
      "Epoch 9/10\n",
      "52/52 [==============================] - 1s 13ms/step - loss: 0.0103 - acc: 0.9979 - val_loss: 0.0637 - val_acc: 0.9855\n",
      "Epoch 10/10\n",
      "52/52 [==============================] - 1s 13ms/step - loss: 0.0077 - acc: 0.9991 - val_loss: 0.0642 - val_acc: 0.9855\n"
     ]
    }
   ],
   "source": [
    "from tensorflow.keras.layers import SimpleRNN, Embedding, Dense\n",
    "from tensorflow.keras.models import Sequential\n",
    "\n",
    "embedding_dim = 32\n",
    "hidden_units = 32\n",
    "\n",
    "model = Sequential()\n",
    "model.add(Embedding(vocab_size, embedding_dim)) # 임베딩\n",
    "model.add(SimpleRNN(hidden_units)) # RNN 모델\n",
    "model.add(Dense(1, activation = 'sigmoid')) # 0,1 classification\n",
    "\n",
    "model.compile(optimizer = 'adam', loss = 'binary_crossentropy',\n",
    "             metrics = ['acc'])\n",
    "\n",
    "history = model.fit(X_train, y_train, epochs=10, batch_size=64, validation_split=0.2)"
   ]
  },
  {
   "cell_type": "code",
   "execution_count": 116,
   "id": "a6c5eb70",
   "metadata": {},
   "outputs": [
    {
     "name": "stdout",
     "output_type": "stream",
     "text": [
      "33/33 [==============================] - 0s 3ms/step - loss: 0.0680 - acc: 0.9826\n",
      "\n",
      " 테스트 정확도: 0.9826\n"
     ]
    }
   ],
   "source": [
    "# test 데이터로 확인하기\n",
    "print(\"\\n 테스트 정확도: %.4f\" % (model.evaluate(X_test, y_test)[1]))"
   ]
  },
  {
   "cell_type": "code",
   "execution_count": 117,
   "id": "a3f3e4a9",
   "metadata": {},
   "outputs": [
    {
     "data": {
      "image/png": "[encoded data removed]",
      "text/plain": [
       "<Figure size 432x288 with 1 Axes>"
      ]
     },
     "metadata": {
      "needs_background": "light"
     },
     "output_type": "display_data"
    }
   ],
   "source": [
    "epochs = range(1, len(history.history['acc']) + 1)\n",
    "plt.plot(epochs, history.history['loss'])\n",
    "plt.plot(epochs, history.history['val_loss'])\n",
    "plt.title('model loss')\n",
    "plt.ylabel('loss')\n",
    "plt.xlabel('epoch')\n",
    "plt.legend(['train', 'val'], loc='upper left')\n",
    "plt.show()"
   ]
  }
 ],
 "metadata": {
  "kernelspec": {
   "display_name": "Python 3",
   "language": "python",
   "name": "python3"
  },
  "language_info": {
   "codemirror_mode": {
    "name": "ipython",
    "version": 3
   },
   "file_extension": ".py",
   "mimetype": "text/x-python",
   "name": "python",
   "nbconvert_exporter": "python",
   "pygments_lexer": "ipython3",
   "version": "3.8.8"
  }
 },
 "nbformat": 4,
 "nbformat_minor": 5
}
