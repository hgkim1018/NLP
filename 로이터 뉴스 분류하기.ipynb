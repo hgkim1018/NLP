{
 "cells": [
  {
   "cell_type": "code",
   "execution_count": 1,
   "id": "1c44eebf",
   "metadata": {},
   "outputs": [],
   "source": [
    "import numpy as np\n",
    "import seaborn as sns\n",
    "import matplotlib.pyplot as plt\n",
    "from tensorflow.keras.datasets import reuters\n",
    "from tqdm import tqdm"
   ]
  },
  {
   "cell_type": "code",
   "execution_count": 4,
   "id": "345ab298",
   "metadata": {},
   "outputs": [
    {
     "name": "stdout",
     "output_type": "stream",
     "text": [
      "훈련용 데이터 셋: 8982\n",
      "테스트용 데이터 셋: 2246\n",
      "카테고리: 46\n"
     ]
    }
   ],
   "source": [
    "# 데이터 불러오기\n",
    "(X_train, y_train), (X_test, y_test) = reuters.load_data(num_words = None, test_split = 0.2)\n",
    "\n",
    "print('훈련용 데이터 셋:', len(X_train))\n",
    "print('테스트용 데이터 셋:', len(X_test))\n",
    "\n",
    "num_classes = len(set(y_train))\n",
    "print('카테고리:', num_classes)"
   ]
  },
  {
   "cell_type": "code",
   "execution_count": 5,
   "id": "a76bfb88",
   "metadata": {},
   "outputs": [
    {
     "name": "stdout",
     "output_type": "stream",
     "text": [
      "첫번째 데이터 셋:  [1, 27595, 28842, 8, 43, 10, 447, 5, 25, 207, 270, 5, 3095, 111, 16, 369, 186, 90, 67, 7, 89, 5, 19, 102, 6, 19, 124, 15, 90, 67, 84, 22, 482, 26, 7, 48, 4, 49, 8, 864, 39, 209, 154, 6, 151, 6, 83, 11, 15, 22, 155, 11, 15, 7, 48, 9, 4579, 1005, 504, 6, 258, 6, 272, 11, 15, 22, 134, 44, 11, 15, 16, 8, 197, 1245, 90, 67, 52, 29, 209, 30, 32, 132, 6, 109, 15, 17, 12]\n",
      "첫번째 데이터의 카테고리 3\n"
     ]
    }
   ],
   "source": [
    "print('첫번째 데이터 셋: ', X_train[0])\n",
    "print('첫번째 데이터의 카테고리', y_train[0])"
   ]
  },
  {
   "cell_type": "code",
   "execution_count": 9,
   "id": "c037f6ff",
   "metadata": {},
   "outputs": [
    {
     "name": "stdout",
     "output_type": "stream",
     "text": [
      "뉴스 기사의 최대 길이:  2376\n",
      "뉴스 기사의 평균 길이:  145.96419665122906\n"
     ]
    }
   ],
   "source": [
    "max_train = max(len(data) for data in X_train)\n",
    "max_test = max(len(data) for data in X_test)\n",
    "\n",
    "sum_train = sum(len(data) for data in X_train)\n",
    "sum_test = sum(len(data) for data in X_test)\n",
    "\n",
    "print('뉴스 기사의 최대 길이: ', max([max_train, max_test]))\n",
    "print('뉴스 기사의 평균 길이: ', (sum_train + sum_test) / (len(X_train) + len(X_test)))"
   ]
  },
  {
   "cell_type": "code",
   "execution_count": 10,
   "id": "7d05d02b",
   "metadata": {},
   "outputs": [
    {
     "data": {
      "image/png": "[encoded data removed]",
      "text/plain": [
       "<Figure size 432x288 with 1 Axes>"
      ]
     },
     "metadata": {
      "needs_background": "light"
     },
     "output_type": "display_data"
    }
   ],
   "source": [
    "plt.hist([len(data) for data in X_train], bins = 50)\n",
    "plt.xlabel('length of samples')\n",
    "plt.ylabel('number of smaples')\n",
    "plt.show()"
   ]
  },
  {
   "cell_type": "code",
   "execution_count": 11,
   "id": "08dcd1ae",
   "metadata": {},
   "outputs": [],
   "source": [
    "import pandas as pd\n",
    "df = pd.DataFrame(y_train, columns = ['lables'])"
   ]
  },
  {
   "cell_type": "code",
   "execution_count": 12,
   "id": "6f1cc257",
   "metadata": {},
   "outputs": [
    {
     "name": "stderr",
     "output_type": "stream",
     "text": [
      "/Users/gimhyeongeun/opt/anaconda3/lib/python3.8/site-packages/seaborn/_decorators.py:36: FutureWarning: Pass the following variable as a keyword arg: x. From version 0.12, the only valid positional argument will be `data`, and passing other arguments without an explicit keyword will result in an error or misinterpretation.\n",
      "  warnings.warn(\n"
     ]
    },
    {
     "data": {
      "image/png": "[encoded data removed]",
      "text/plain": [
       "<Figure size 864x360 with 1 Axes>"
      ]
     },
     "metadata": {
      "needs_background": "light"
     },
     "output_type": "display_data"
    }
   ],
   "source": [
    "# lable 별 갯수 확인하기\n",
    "fig, axe = plt.subplots(ncols = 1)\n",
    "fig.set_size_inches(12,5)\n",
    "ax = sns.countplot(df['lables'])\n",
    "for p, label in zip(ax.patches, df['lables'].value_counts().sort_index()):\n",
    "    ax.annotate(label, (p.get_x(), p.get_height() + 0.15))"
   ]
  },
  {
   "cell_type": "code",
   "execution_count": 13,
   "id": "acdd6c5b",
   "metadata": {},
   "outputs": [
    {
     "name": "stdout",
     "output_type": "stream",
     "text": [
      "각 레이블에 대한 빈도수:\n",
      "[[   0    1    2    3    4    5    6    7    8    9   10   11   12   13\n",
      "    14   15   16   17   18   19   20   21   22   23   24   25   26   27\n",
      "    28   29   30   31   32   33   34   35   36   37   38   39   40   41\n",
      "    42   43   44   45]\n",
      " [  55  432   74 3159 1949   17   48   16  139  101  124  390   49  172\n",
      "    26   20  444   39   66  549  269  100   15   41   62   92   24   15\n",
      "    48   19   45   39   32   11   50   10   49   19   19   24   36   30\n",
      "    13   21   12   18]]\n"
     ]
    }
   ],
   "source": [
    "unique_elements, counts_elements = np.unique(y_train, return_counts=True)\n",
    "print(\"각 레이블에 대한 빈도수:\")\n",
    "print(np.asarray((unique_elements, counts_elements)))"
   ]
  },
  {
   "cell_type": "markdown",
   "id": "616e33f0",
   "metadata": {},
   "source": [
    "--------"
   ]
  },
  {
   "cell_type": "code",
   "execution_count": 14,
   "id": "a93868a7",
   "metadata": {},
   "outputs": [
    {
     "name": "stdout",
     "output_type": "stream",
     "text": [
      "단어 갯수:  30979\n"
     ]
    }
   ],
   "source": [
    "word_to_index = reuters.get_word_index()\n",
    "print('단어 갯수: ', len(word_to_index))"
   ]
  },
  {
   "cell_type": "code",
   "execution_count": 16,
   "id": "804173df",
   "metadata": {},
   "outputs": [],
   "source": [
    "#주의할 점은 로이터 데이터의 규칙에 따라\n",
    "# reuters.get_word_index()에 저장된 값에 +3을 해야 실제 맵핑되는 정수이다.\n",
    "\n",
    "index_to_word = {}\n",
    "for key, value in word_to_index.items():\n",
    "    index_to_word[value+3] = key"
   ]
  },
  {
   "cell_type": "code",
   "execution_count": 17,
   "id": "3423eaa8",
   "metadata": {},
   "outputs": [
    {
     "name": "stdout",
     "output_type": "stream",
     "text": [
      "빈도수 상위 1번 단어 : the\n",
      "빈도수 상위 128등 단어 : tax\n"
     ]
    }
   ],
   "source": [
    "print('빈도수 상위 1번 단어 : {}'.format(index_to_word[4]))\n",
    "print('빈도수 상위 128등 단어 : {}'.format(index_to_word[131]))"
   ]
  },
  {
   "cell_type": "code",
   "execution_count": 18,
   "id": "29ac102f",
   "metadata": {},
   "outputs": [
    {
     "name": "stdout",
     "output_type": "stream",
     "text": [
      "첫 번째 데이터의 문장:  <sos> mcgrath rentcorp said as a result of its december acquisition of space co it expects earnings per share in 1987 of 1 15 to 1 30 dlrs per share up from 70 cts in 1986 the company said pretax net should rise to nine to 10 mln dlrs from six mln dlrs in 1986 and rental operation revenues to 19 to 22 mln dlrs from 12 5 mln dlrs it said cash flow per share this year should be 2 50 to three dlrs reuter 3\n"
     ]
    }
   ],
   "source": [
    "# index_to_word에서 \n",
    "# 숫자 0은 패딩을 의미하는 토큰인 pad, \n",
    "# 숫자 1은 문장의 시작을 의미하는 sos, \n",
    "# 숫자 2는 OOV를 위한 토큰인 unk라는 특별 토큰에 맵핑되어져야 합니다. \n",
    "# 이를 반영하여 index_to_word를 완성해줍니다.\n",
    "\n",
    "for index, token in enumerate((\"<pad>\", \"<sos>\", \"<unk>\")):\n",
    "    index_to_word[index] = token\n",
    "\n",
    "print('첫 번째 데이터의 문장: ',' '.join([index_to_word[sequence] for sequence in X_train[0]]))"
   ]
  },
  {
   "cell_type": "code",
   "execution_count": 19,
   "id": "68f79bd2",
   "metadata": {},
   "outputs": [
    {
     "name": "stdout",
     "output_type": "stream",
     "text": [
      "8982\n",
      "2246\n"
     ]
    }
   ],
   "source": [
    "# 데이터 별 시퀀스 만들기\n",
    "\n",
    "new_X_train = []\n",
    "new_X_test = []\n",
    "\n",
    "for sequence in X_train:\n",
    "    new_X_train.append([index_to_word[word] for word in sequence])\n",
    "    \n",
    "for sequence in X_test:\n",
    "    new_X_test.append([index_to_word[word] for word in sequence])\n",
    "\n",
    "print(len(new_X_train))\n",
    "print(len(new_X_test))\n"
   ]
  },
  {
   "cell_type": "code",
   "execution_count": 20,
   "id": "07265212",
   "metadata": {},
   "outputs": [
    {
     "name": "stdout",
     "output_type": "stream",
     "text": [
      "8982\n",
      "2246\n"
     ]
    }
   ],
   "source": [
    "# 불용어 제거\n",
    "\n",
    "from nltk.corpus import stopwords\n",
    "stops = set(stopwords.words('english'))\n",
    "\n",
    "X_train_2 = []\n",
    "X_test_2 = []\n",
    "\n",
    "for sequence in new_X_train:\n",
    "    text = [w for w in sequence if not w in stops] \n",
    "    X_train_2.append(text)\n",
    "    \n",
    "for sequence in new_X_test:\n",
    "    text = [w for w in sequence if not w in stops] \n",
    "    X_test_2.append(text)\n",
    "    \n",
    "print(len(X_train_2))\n",
    "print(len(X_test_2))"
   ]
  },
  {
   "cell_type": "markdown",
   "id": "6577b3d0",
   "metadata": {},
   "source": [
    "-------"
   ]
  },
  {
   "cell_type": "code",
   "execution_count": 21,
   "id": "b9859ed2",
   "metadata": {},
   "outputs": [
    {
     "name": "stderr",
     "output_type": "stream",
     "text": [
      "100%|██████████| 8982/8982 [00:00<00:00, 10226.97it/s]\n",
      "100%|██████████| 2246/2246 [00:00<00:00, 10086.36it/s]\n"
     ]
    }
   ],
   "source": [
    "# 데이터 내에 있는 모든 정수를 '<int>'로 변경한다.\n",
    "\n",
    "for sequence in tqdm(X_train_2):\n",
    "    for idx, word in enumerate(sequence):\n",
    "        try: \n",
    "            int(word)\n",
    "            sequence[idx] = '<int>'\n",
    "        except:\n",
    "            continue\n",
    "\n",
    "for sequence in tqdm(X_test_2):\n",
    "    for idx, word in enumerate(sequence):\n",
    "        try: \n",
    "            int(word)\n",
    "            sequence[idx] = '<int>'\n",
    "        except:\n",
    "            continue"
   ]
  },
  {
   "cell_type": "code",
   "execution_count": 22,
   "id": "6c3ef33c",
   "metadata": {},
   "outputs": [
    {
     "name": "stdout",
     "output_type": "stream",
     "text": [
      "뉴스 기사의 최대 길이:  2278\n",
      "뉴스 기사의 평균 길이:  100.02520484503029\n"
     ]
    }
   ],
   "source": [
    "max_train = max(len(data) for data in X_train_2)\n",
    "max_test = max(len(data) for data in X_test_2)\n",
    "\n",
    "sum_train = sum(len(data) for data in X_train_2)\n",
    "sum_test = sum(len(data) for data in X_test_2)\n",
    "\n",
    "# 불용어와 정수 변환을 한 후의 데이터의 길이\n",
    "\n",
    "print('뉴스 기사의 최대 길이: ', max([max_train, max_test]))\n",
    "print('뉴스 기사의 평균 길이: ', (sum_train + sum_test) / (len(X_train) + len(X_test)))"
   ]
  },
  {
   "cell_type": "code",
   "execution_count": 23,
   "id": "ad6678a1",
   "metadata": {},
   "outputs": [
    {
     "data": {
      "image/png": "[encoded data removed]",
      "text/plain": [
       "<Figure size 432x288 with 1 Axes>"
      ]
     },
     "metadata": {
      "needs_background": "light"
     },
     "output_type": "display_data"
    }
   ],
   "source": [
    "plt.hist([len(data) for data in X_train_2], bins = 50)\n",
    "plt.xlabel('length of samples')\n",
    "plt.ylabel('number of smaples')\n",
    "plt.show()"
   ]
  },
  {
   "cell_type": "markdown",
   "id": "cad275ec",
   "metadata": {},
   "source": [
    "------"
   ]
  },
  {
   "cell_type": "code",
   "execution_count": 31,
   "id": "4e429e95",
   "metadata": {},
   "outputs": [
    {
     "name": "stdout",
     "output_type": "stream",
     "text": [
      "총 단어의 갯수: 1123083\n"
     ]
    }
   ],
   "source": [
    "# Counter\n",
    "# 하나의 리스트로 변환하기\n",
    "all_word_list = sum(X_train_2, [])\n",
    "all_word_list2 = sum(X_test_2, [])\n",
    "\n",
    "all_word_list = all_word_list + all_word_list2\n",
    "\n",
    "print('총 단어의 갯수:', len(all_word_list))"
   ]
  },
  {
   "cell_type": "code",
   "execution_count": 32,
   "id": "924549e4",
   "metadata": {},
   "outputs": [
    {
     "name": "stderr",
     "output_type": "stream",
     "text": [
      "100%|██████████| 8982/8982 [02:09<00:00, 69.54it/s]\n",
      "100%|██████████| 2246/2246 [00:34<00:00, 65.81it/s]\n"
     ]
    }
   ],
   "source": [
    "from collections import Counter\n",
    "\n",
    "# 단어별 등장 횟수\n",
    "vocab = Counter(all_word_list)\n",
    "\n",
    "small_words = []\n",
    "X_train_3 = []\n",
    "X_test_3  = []\n",
    "\n",
    "# 희귀 단어 제거하기\n",
    "\n",
    "threshold = 2\n",
    "\n",
    "\n",
    "# 희귀 단어 리스 만들기\n",
    "for key, value in vocab.items():\n",
    "    if value < threshold:\n",
    "        small_words.append(key)\n",
    "\n",
    "# 희귀 단어를 제거한 데이터 셋 만들기\n",
    "for sequence in tqdm(X_train_2):\n",
    "    text = [w for w in sequence if not w in small_words] \n",
    "    X_train_3.append(text)\n",
    "    \n",
    "for sequence in tqdm(X_test_2):\n",
    "    text = [w for w in sequence if not w in small_words] \n",
    "    X_test_3.append(text)"
   ]
  },
  {
   "cell_type": "code",
   "execution_count": 33,
   "id": "10aa3380",
   "metadata": {},
   "outputs": [
    {
     "name": "stdout",
     "output_type": "stream",
     "text": [
      "뉴스 기사의 최대 길이:  2276\n",
      "뉴스 기사의 평균 길이:  99.13092269326684\n"
     ]
    }
   ],
   "source": [
    "max_train = max(len(data) for data in X_train_3)\n",
    "max_test = max(len(data) for data in X_test_3)\n",
    "\n",
    "sum_train = sum(len(data) for data in X_train_3)\n",
    "sum_test = sum(len(data) for data in X_test_3)\n",
    "\n",
    "# 불용어와 정수 변환을 한 후의 데이터의 길이\n",
    "\n",
    "print('뉴스 기사의 최대 길이: ', max([max_train, max_test]))\n",
    "print('뉴스 기사의 평균 길이: ', (sum_train + sum_test) / (len(X_train) + len(X_test)))"
   ]
  },
  {
   "cell_type": "code",
   "execution_count": 34,
   "id": "2c8e42ad",
   "metadata": {},
   "outputs": [
    {
     "data": {
      "image/png": "[encoded data removed]",
      "text/plain": [
       "<Figure size 432x288 with 1 Axes>"
      ]
     },
     "metadata": {
      "needs_background": "light"
     },
     "output_type": "display_data"
    }
   ],
   "source": [
    "plt.hist([len(data) for data in X_train_3], bins = 50)\n",
    "plt.xlabel('length of samples')\n",
    "plt.ylabel('number of smaples')\n",
    "plt.show()"
   ]
  },
  {
   "cell_type": "markdown",
   "id": "68dcfd80",
   "metadata": {},
   "source": [
    "-----"
   ]
  },
  {
   "cell_type": "code",
   "execution_count": 35,
   "id": "b6e7319c",
   "metadata": {},
   "outputs": [],
   "source": [
    "# 희귀 단어 제거\n",
    "\n",
    "all_word_list = sum(X_train_3, [])\n",
    "all_word_list2 = sum(X_test_3, [])\n",
    "\n",
    "all_word_list = all_word_list + all_word_list2"
   ]
  },
  {
   "cell_type": "code",
   "execution_count": 36,
   "id": "e16b9e28",
   "metadata": {},
   "outputs": [
    {
     "data": {
      "text/plain": [
       "1113042"
      ]
     },
     "execution_count": 36,
     "metadata": {},
     "output_type": "execute_result"
    }
   ],
   "source": [
    "len(all_word_list)"
   ]
  },
  {
   "cell_type": "code",
   "execution_count": 39,
   "id": "eb09a64a",
   "metadata": {},
   "outputs": [
    {
     "data": {
      "text/plain": [
       "[('<int>', 168015),\n",
       " ('said', 29978),\n",
       " ('mln', 20141),\n",
       " ('vs', 15015),\n",
       " ('dlrs', 13329)]"
      ]
     },
     "execution_count": 39,
     "metadata": {},
     "output_type": "execute_result"
    }
   ],
   "source": [
    "vocab = Counter(all_word_list)\n",
    "\n",
    "# 희귀단어를 제거한 단어 목록 중 빈도수가 높은 top 5 목록\n",
    "sorted_dict = sorted(vocab.items(), key = lambda item: item[1], reverse = True)\n",
    "sorted_dict[0:5]"
   ]
  },
  {
   "cell_type": "code",
   "execution_count": 41,
   "id": "5af444ff",
   "metadata": {},
   "outputs": [
    {
     "name": "stdout",
     "output_type": "stream",
     "text": [
      "word_to_idx:  19231\n"
     ]
    }
   ],
   "source": [
    "# 희귀 단어를 제거한 word_to_idx\n",
    "word_to_idx = {}\n",
    "\n",
    "# 숫자 0은 패딩을 의미하는 토큰인 pad, \n",
    "# 숫자 1은 문장의 시작을 의미하는 sos, \n",
    "# 숫자 2는 OOV를 위한 토큰인 unk라는 특별 토큰에 맵핑되어져야 합니다. \n",
    "# 숫자 4는 idx\n",
    "\n",
    "for index, token in enumerate((\"<pad>\", \"<sos>\", \"<unk>\", '<int>')):\n",
    "    word_to_idx[token] = index\n",
    "    \n",
    "idx = 4\n",
    "for sets in sorted_dict:\n",
    "        if not sets[0] in [\"<pad>\", \"<sos>\", \"<unk>\", '<int>']:\n",
    "            word_to_idx[sets[0]] = idx\n",
    "            idx += 1\n",
    "            \n",
    "print('word_to_idx: ', len(word_to_idx))"
   ]
  },
  {
   "cell_type": "markdown",
   "id": "e3595049",
   "metadata": {},
   "source": [
    "---------"
   ]
  },
  {
   "cell_type": "code",
   "execution_count": 42,
   "id": "716121f9",
   "metadata": {},
   "outputs": [
    {
     "name": "stderr",
     "output_type": "stream",
     "text": [
      "100%|██████████| 8982/8982 [00:00<00:00, 98256.31it/s]\n",
      "100%|██████████| 2246/2246 [00:00<00:00, 101210.90it/s]"
     ]
    },
    {
     "name": "stdout",
     "output_type": "stream",
     "text": [
      "8982\n",
      "2246\n"
     ]
    },
    {
     "name": "stderr",
     "output_type": "stream",
     "text": [
      "\n"
     ]
    }
   ],
   "source": [
    "# 시퀀스화 하기\n",
    "\n",
    "X_train_4 = []\n",
    "X_test_4 = []\n",
    "\n",
    "for sequence in tqdm(X_train_3):\n",
    "    text = [word_to_idx[w] for w in sequence] \n",
    "    X_train_4.append(text)\n",
    "    \n",
    "for sequence in tqdm(X_test_3):\n",
    "    text = [word_to_idx[w] for w in sequence] \n",
    "    X_test_4.append(text)\n",
    "        \n",
    "print(len(X_train_4))\n",
    "print(len(X_test_4))"
   ]
  },
  {
   "cell_type": "markdown",
   "id": "580c365f",
   "metadata": {},
   "source": [
    "\n",
    "----------------"
   ]
  },
  {
   "cell_type": "code",
   "execution_count": 43,
   "id": "7dfceac1",
   "metadata": {},
   "outputs": [],
   "source": [
    "from tensorflow.keras.models import Sequential\n",
    "from tensorflow.keras.layers import Dense, LSTM, Embedding\n",
    "from tensorflow.keras.preprocessing.sequence import pad_sequences\n",
    "from tensorflow.keras.utils import to_categorical\n",
    "from tensorflow.keras.callbacks import EarlyStopping, ModelCheckpoint\n",
    "from tensorflow.keras.models import load_model"
   ]
  },
  {
   "cell_type": "code",
   "execution_count": 44,
   "id": "42a3d491",
   "metadata": {},
   "outputs": [],
   "source": [
    "# 패딩하기\n",
    "\n",
    "max_len = 500\n",
    "\n",
    "X_train = pad_sequences(X_train_4, maxlen=max_len)\n",
    "X_test = pad_sequences(X_test_4, maxlen=max_len)\n",
    "\n",
    "y_train = to_categorical(y_train)\n",
    "y_test = to_categorical(y_test)"
   ]
  },
  {
   "cell_type": "code",
   "execution_count": 45,
   "id": "dab0eeac",
   "metadata": {},
   "outputs": [
    {
     "name": "stdout",
     "output_type": "stream",
     "text": [
      "(8982, 500)\n",
      "(2246, 500)\n",
      "(8982, 46)\n",
      "(2246, 46)\n"
     ]
    }
   ],
   "source": [
    "print(X_train.shape)\n",
    "print(X_test.shape)\n",
    "print(y_train.shape)\n",
    "print(y_test.shape)"
   ]
  },
  {
   "cell_type": "code",
   "execution_count": 46,
   "id": "07d52e96",
   "metadata": {},
   "outputs": [
    {
     "name": "stdout",
     "output_type": "stream",
     "text": [
      "Epoch 1/30\n",
      "71/71 [==============================] - 82s 1s/step - loss: 2.4768 - acc: 0.3756 - val_loss: 2.0270 - val_acc: 0.5040\n",
      "\n",
      "Epoch 00001: val_acc improved from -inf to 0.50401, saving model to best_model.h5\n",
      "Epoch 2/30\n",
      "71/71 [==============================] - 95s 1s/step - loss: 1.7956 - acc: 0.5383 - val_loss: 1.7642 - val_acc: 0.5539\n",
      "\n",
      "Epoch 00002: val_acc improved from 0.50401 to 0.55387, saving model to best_model.h5\n",
      "Epoch 3/30\n",
      "71/71 [==============================] - 94s 1s/step - loss: 1.5982 - acc: 0.5934 - val_loss: 1.6838 - val_acc: 0.5623\n",
      "\n",
      "Epoch 00003: val_acc improved from 0.55387 to 0.56233, saving model to best_model.h5\n",
      "Epoch 4/30\n",
      "71/71 [==============================] - 96s 1s/step - loss: 1.3463 - acc: 0.6642 - val_loss: 1.4164 - val_acc: 0.6478\n",
      "\n",
      "Epoch 00004: val_acc improved from 0.56233 to 0.64782, saving model to best_model.h5\n",
      "Epoch 5/30\n",
      "71/71 [==============================] - 98s 1s/step - loss: 1.0756 - acc: 0.7306 - val_loss: 1.3266 - val_acc: 0.6790\n",
      "\n",
      "Epoch 00005: val_acc improved from 0.64782 to 0.67898, saving model to best_model.h5\n",
      "Epoch 6/30\n",
      "71/71 [==============================] - 98s 1s/step - loss: 0.9142 - acc: 0.7761 - val_loss: 1.2564 - val_acc: 0.7088\n",
      "\n",
      "Epoch 00006: val_acc improved from 0.67898 to 0.70882, saving model to best_model.h5\n",
      "Epoch 7/30\n",
      "71/71 [==============================] - 99s 1s/step - loss: 0.7717 - acc: 0.8086 - val_loss: 1.3026 - val_acc: 0.6874\n",
      "\n",
      "Epoch 00007: val_acc did not improve from 0.70882\n",
      "Epoch 8/30\n",
      "71/71 [==============================] - 100s 1s/step - loss: 0.6545 - acc: 0.8340 - val_loss: 1.2363 - val_acc: 0.7164\n",
      "\n",
      "Epoch 00008: val_acc improved from 0.70882 to 0.71638, saving model to best_model.h5\n",
      "Epoch 9/30\n",
      "71/71 [==============================] - 106s 2s/step - loss: 0.5381 - acc: 0.8657 - val_loss: 1.2780 - val_acc: 0.7199\n",
      "\n",
      "Epoch 00009: val_acc improved from 0.71638 to 0.71995, saving model to best_model.h5\n",
      "Epoch 10/30\n",
      "71/71 [==============================] - 92s 1s/step - loss: 0.4590 - acc: 0.8910 - val_loss: 1.2660 - val_acc: 0.7253\n",
      "\n",
      "Epoch 00010: val_acc improved from 0.71995 to 0.72529, saving model to best_model.h5\n",
      "Epoch 11/30\n",
      "71/71 [==============================] - 95s 1s/step - loss: 0.4073 - acc: 0.9012 - val_loss: 1.2835 - val_acc: 0.7106\n",
      "\n",
      "Epoch 00011: val_acc did not improve from 0.72529\n",
      "Epoch 12/30\n",
      "71/71 [==============================] - 94s 1s/step - loss: 0.3493 - acc: 0.9142 - val_loss: 1.3004 - val_acc: 0.7191\n",
      "\n",
      "Epoch 00012: val_acc did not improve from 0.72529\n",
      "Epoch 00012: early stopping\n"
     ]
    }
   ],
   "source": [
    "embedding_dim = 256\n",
    "hidden_units = 128\n",
    "num_classes = 46\n",
    "\n",
    "model = Sequential()\n",
    "model.add(Embedding(len(word_to_idx), embedding_dim))\n",
    "model.add(LSTM(hidden_units))\n",
    "model.add(Dense(num_classes, activation='softmax'))\n",
    "\n",
    "es = EarlyStopping(monitor='val_loss', mode='min', verbose=1, patience=4) \n",
    "# 4번동안 val_loss가 줄어지지 않는다면 모델 학습을 멈춘다.\n",
    "mc = ModelCheckpoint('best_model.h5', monitor='val_acc', mode='max', verbose=1, save_best_only=True)\n",
    "# 성능이 가장 좋은 모델은 저장한다.\n",
    "\n",
    "\n",
    "model.compile(loss='categorical_crossentropy', optimizer='adam', metrics=['acc'])\n",
    "history = model.fit(X_train, y_train, batch_size=128, epochs=30, callbacks=[es, mc], validation_data=(X_test, y_test))"
   ]
  },
  {
   "cell_type": "code",
   "execution_count": 47,
   "id": "b6108ae1",
   "metadata": {},
   "outputs": [
    {
     "name": "stdout",
     "output_type": "stream",
     "text": [
      "71/71 [==============================] - 6s 87ms/step - loss: 1.2660 - acc: 0.7253\n",
      "\n",
      " 테스트 정확도: 0.7253\n"
     ]
    }
   ],
   "source": [
    "loaded_model = load_model('best_model.h5')\n",
    "print(\"\\n 테스트 정확도: %.4f\" % (loaded_model.evaluate(X_test, y_test)[1]))"
   ]
  },
  {
   "cell_type": "code",
   "execution_count": 48,
   "id": "0e10f34b",
   "metadata": {},
   "outputs": [
    {
     "data": {
      "image/png": "[encoded data removed]",
      "text/plain": [
       "<Figure size 432x288 with 1 Axes>"
      ]
     },
     "metadata": {
      "needs_background": "light"
     },
     "output_type": "display_data"
    }
   ],
   "source": [
    "epochs = range(1, len(history.history['acc']) + 1)\n",
    "plt.plot(epochs, history.history['loss'])\n",
    "plt.plot(epochs, history.history['val_loss'])\n",
    "plt.title('model loss')\n",
    "plt.ylabel('loss')\n",
    "plt.xlabel('epoch')\n",
    "plt.legend(['train', 'test'], loc='upper left')\n",
    "plt.show()"
   ]
  }
 ],
 "metadata": {
  "kernelspec": {
   "display_name": "Python 3",
   "language": "python",
   "name": "python3"
  },
  "language_info": {
   "codemirror_mode": {
    "name": "ipython",
    "version": 3
   },
   "file_extension": ".py",
   "mimetype": "text/x-python",
   "name": "python",
   "nbconvert_exporter": "python",
   "pygments_lexer": "ipython3",
   "version": "3.8.8"
  }
 },
 "nbformat": 4,
 "nbformat_minor": 5
}
